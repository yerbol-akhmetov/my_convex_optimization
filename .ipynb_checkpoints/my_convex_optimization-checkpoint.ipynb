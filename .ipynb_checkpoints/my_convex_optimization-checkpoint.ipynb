{
 "cells": [
  {
   "cell_type": "markdown",
   "id": "c328c759",
   "metadata": {},
   "source": [
    "## 0. Importiing all required libraries"
   ]
  },
  {
   "cell_type": "code",
   "execution_count": 1,
   "id": "a24662b1",
   "metadata": {},
   "outputs": [],
   "source": [
    "import numpy as np\n",
    "import matplotlib.pyplot as plt\n",
    "from scipy.optimize import minimize_scalar\n",
    "import scipy "
   ]
  },
  {
   "cell_type": "markdown",
   "id": "c546585e",
   "metadata": {},
   "source": [
    "## 1. Function that plots a function"
   ]
  },
  {
   "cell_type": "code",
   "execution_count": 2,
   "id": "ef3e1887",
   "metadata": {},
   "outputs": [],
   "source": [
    "# Printing the function\n",
    "def print_a_function(f, values):\n",
    "    y = f(values)\n",
    "    plt.plot(values, y, label='f')\n",
    "    plt.legend(loc = 1)\n",
    "    plt.show()"
   ]
  },
  {
   "cell_type": "code",
   "execution_count": 3,
   "id": "b3df468b",
   "metadata": {},
   "outputs": [
    {
     "data": {
      "image/png": "[encoded data removed]",
      "text/plain": [
       "<Figure size 432x288 with 1 Axes>"
      ]
     },
     "metadata": {
      "needs_background": "light"
     },
     "output_type": "display_data"
    }
   ],
   "source": [
    "# function\n",
    "f = lambda x: (x - 1)**4 + x**2\n",
    "# plotting the graph\n",
    "x = np.linspace(-1, 2, 100)\n",
    "print_a_function(f, x)"
   ]
  },
  {
   "cell_type": "markdown",
   "id": "233136e4",
   "metadata": {},
   "source": [
    "## 2. Finding a root of the functions"
   ]
  },
  {
   "cell_type": "markdown",
   "id": "dd9b10fd",
   "metadata": {},
   "source": [
    "### A. Bisect method"
   ]
  },
  {
   "cell_type": "code",
   "execution_count": 11,
   "id": "cd3f99be",
   "metadata": {},
   "outputs": [],
   "source": [
    "# Bisect method\n",
    "def find_root_bisection(f, min_x, max_x):\n",
    "    # if the root is between min_x and max_x\n",
    "    if f(min_x) * f(max_x) < 0:\n",
    "        t = (max_x + min_x) / 2.0\n",
    "        while abs(f(t)) >= 0.001:\n",
    "            if f(min_x) * f(t) < 0:\n",
    "                max_x = t\n",
    "            elif f(max_x) * f(t) < 0:\n",
    "                min_x = t\n",
    "            t = (max_x + min_x) / 2.0\n",
    "        return t\n",
    "    elif f(min_x) == 0: # if min_x is already a root\n",
    "        return min_x\n",
    "    elif f(max_x) == 0: # if max_x is already a root\n",
    "        return max_x\n",
    "    else:\n",
    "        print(\"Wrong initial search domain\") # if search domain does not contain root\n",
    "        return None"
   ]
  },
  {
   "cell_type": "code",
   "execution_count": 12,
   "id": "523a08b8",
   "metadata": {},
   "outputs": [
    {
     "name": "stdout",
     "output_type": "stream",
     "text": [
      "Bisection Method\n",
      "x_min: 0.4103, f(x_min): 0.2893\n"
     ]
    }
   ],
   "source": [
    "# derivitive of the function f\n",
    "f_prime = lambda x: 4*(x - 1)**3 + 2*x\n",
    "# root of the function f_prime between -1 and 2\n",
    "x0 = find_root_bisection(f_prime, -1, 2)\n",
    "print(\"Bisection Method\")\n",
    "print(f\"x_min: {x0:.4f}, f(x_min): {f(x0):.4f}\")"
   ]
  },
  {
   "cell_type": "markdown",
   "id": "1faff82c",
   "metadata": {},
   "source": [
    "### B. Newton-Raphson method"
   ]
  },
  {
   "cell_type": "code",
   "execution_count": 21,
   "id": "4ebdceaa",
   "metadata": {},
   "outputs": [],
   "source": [
    "# Newton-Raphson method\n",
    "def find_root_newton_raphson(f, f_deriv, x0):\n",
    "    xn = x0 # initial guess of the root\n",
    "    while abs(f(xn)) >= 0.001:\n",
    "        xn = xn - f(xn) / f_deriv(xn)\n",
    "    return xn"
   ]
  },
  {
   "cell_type": "code",
   "execution_count": 22,
   "id": "2a282fcc",
   "metadata": {},
   "outputs": [
    {
     "name": "stdout",
     "output_type": "stream",
     "text": [
      "Newton-Raphson Method\n",
      "x_min: 0.4102, f(x_min): 0.2893\n"
     ]
    }
   ],
   "source": [
    "# first derivitive of the function f\n",
    "f_prime = lambda x: 4*(x - 1)**3 + 2*x\n",
    "# second derivitive of the function f (newton-rapson method)\n",
    "f_prime2 = lambda x: 12*(x - 1)**2 + 2\n",
    "x1 = find_root_newton_raphson(f_prime, f_prime2, 0)\n",
    "print(\"Newton-Raphson Method\")\n",
    "print(f\"x_min: {x1:.4f}, f(x_min): {f(x1):.4f}\")"
   ]
  },
  {
   "cell_type": "markdown",
   "id": "1036f303",
   "metadata": {},
   "source": [
    "### C. Gradient Descent method"
   ]
  },
  {
   "cell_type": "code",
   "execution_count": 23,
   "id": "a2be2424",
   "metadata": {},
   "outputs": [],
   "source": [
    "# gradient descent method\n",
    "def gradient_descent(f, f_prime, start, learning_rate = 0.1):\n",
    "    x = start\n",
    "    while abs(f_prime(x)) >= 0.001:\n",
    "        x = x - learning_rate * f_prime(x)\n",
    "    return x"
   ]
  },
  {
   "cell_type": "code",
   "execution_count": 28,
   "id": "b82dfdd8",
   "metadata": {},
   "outputs": [
    {
     "name": "stdout",
     "output_type": "stream",
     "text": [
      "Gradient Descent\n",
      "x_min: 0.4101, f(x_min): 0.2893\n"
     ]
    }
   ],
   "source": [
    "# function itself\n",
    "f = lambda x : (x - 1) ** 4 + x ** 2\n",
    "# first derivitive of the function\n",
    "f_prime = lambda x : 4*((x-1)**3) + 2*x\n",
    "# initial starting point\n",
    "start = -1\n",
    "x_min = gradient_descent(f, f_prime, start, 0.01)\n",
    "f_min = f(x_min)\n",
    "print(\"Gradient Descent\")\n",
    "print(\"x_min: %0.4f, f(x_min): %0.4f\" % (x_min, f_min))"
   ]
  },
  {
   "cell_type": "markdown",
   "id": "114339dc",
   "metadata": {},
   "source": [
    "### D. Cheking the root with Brent's method"
   ]
  },
  {
   "cell_type": "code",
   "execution_count": 32,
   "id": "83d087f0",
   "metadata": {},
   "outputs": [
    {
     "name": "stdout",
     "output_type": "stream",
     "text": [
      "Brent's method\n",
      "x_min: 0.4102, f(x_min): 0.2893\n"
     ]
    },
    {
     "data": {
      "text/plain": [
       "<matplotlib.legend.Legend at 0x7f332c69e860>"
      ]
     },
     "execution_count": 32,
     "metadata": {},
     "output_type": "execute_result"
    },
    {
     "data": {
      "image/png": "[encoded data removed]",
      "text/plain": [
       "<Figure size 432x288 with 1 Axes>"
      ]
     },
     "metadata": {
      "needs_background": "light"
     },
     "output_type": "display_data"
    }
   ],
   "source": [
    "res = minimize_scalar(f, method='brent')\n",
    "print(\"Brent's method\")\n",
    "print('x_min: %.04f, f(x_min): %.04f' % (res.x, res.fun))\n",
    "\n",
    "# plot curve\n",
    "x = np.linspace(res.x - 1, res.x + 1, 100)\n",
    "y = [f(val) for val in x]\n",
    "plt.plot(x, y, color='blue', label='f')\n",
    "\n",
    "# plot optima\n",
    "plt.scatter(res.x, res.fun, color='red', marker='x', label='Minimum')\n",
    "\n",
    "plt.grid()\n",
    "plt.legend(loc = 1)"
   ]
  },
  {
   "cell_type": "markdown",
   "id": "edd68ac9",
   "metadata": {},
   "source": [
    "## 3. Solving a linear model"
   ]
  },
  {
   "cell_type": "code",
   "execution_count": 47,
   "id": "5b1f8365",
   "metadata": {},
   "outputs": [],
   "source": [
    "# function that solves a linear model with Simplex method\n",
    "def solve_linear_problem(A, b, c):\n",
    "    res = scipy.optimize.linprog(c=c, A_ub=A, b_ub=b, method='simplex')\n",
    "    optim_val =  - res.fun\n",
    "    optim_x = res.x\n",
    "    return optim_val, optim_x"
   ]
  },
  {
   "cell_type": "code",
   "execution_count": 48,
   "id": "85f7171e",
   "metadata": {},
   "outputs": [
    {
     "name": "stdout",
     "output_type": "stream",
     "text": [
      "The optimal value is:  11.0  and is reached for x =  [3. 4.]\n"
     ]
    }
   ],
   "source": [
    "# parameters of the linear model\n",
    "A = np.array([[2, 1],[-4, 5],[1, -2]])\n",
    "b = np.array([10, 8, 3])\n",
    "c = np.array([-1, -2])\n",
    "# determining the solution of liear model\n",
    "optimal_value, optimal_arg = solve_linear_problem(A, b, c)\n",
    "print(\"The optimal value is: \", optimal_value, \" and is reached for x = \", optimal_arg)\n"
   ]
  },
  {
   "cell_type": "code",
   "execution_count": null,
   "id": "14f065d5",
   "metadata": {},
   "outputs": [],
   "source": []
  }
 ],
 "metadata": {
  "kernelspec": {
   "display_name": "Python 3",
   "language": "python",
   "name": "python3"
  },
  "language_info": {
   "codemirror_mode": {
    "name": "ipython",
    "version": 3
   },
   "file_extension": ".py",
   "mimetype": "text/x-python",
   "name": "python",
   "nbconvert_exporter": "python",
   "pygments_lexer": "ipython3",
   "version": "3.6.7"
  }
 },
 "nbformat": 4,
 "nbformat_minor": 5
}
